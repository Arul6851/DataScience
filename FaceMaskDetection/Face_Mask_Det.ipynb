{
 "cells": [
  {
   "cell_type": "code",
   "execution_count": null,
   "id": "415c80d0",
   "metadata": {},
   "outputs": [],
   "source": [
    "!python -m pip install --upgrade pip\n",
    "\n",
    "!pip install numpy\n",
    "!pip install scikit-learn\n",
    "!pip install pandas\n",
    "!pip install matplotlib\n",
    "!pip install seaborn\n",
    "!pip install opencv-python\n",
    "!pip install tensorflow\n",
    "!pip install Pillow\n",
    "!pip install xml-python\n",
    "!pip install glob2"
   ]
  },
  {
   "cell_type": "code",
   "execution_count": null,
   "id": "a9ac6a9e",
   "metadata": {},
   "outputs": [],
   "source": [
    "# This Python 3 environment comes with many helpful analytics libraries installed\n",
    "# It is defined by the kaggle/python Docker image: https://github.com/kaggle/docker-python\n",
    "# For example, here's several helpful packages to load\n",
    "\n",
    "import numpy as np # linear algebra\n",
    "import pandas as pd # data processing, CSV file I/O (e.g. pd.read_csv)\n",
    "import matplotlib.pyplot as plt\n",
    "import tensorflow as tf\n",
    "from tensorflow import keras\n",
    "import cv2\n",
    "import seaborn as sns\n",
    "import PIL\n",
    "import xml.etree.ElementTree as ET\n",
    "import glob\n",
    "\n",
    "# Input data files are available in the read-only \"../input/\" directory\n",
    "# For example, running this (by clicking run or pressing Shift+Enter) will list all files under the input directory\n",
    "\n",
    "import os\n",
    "for dirname, _, filenames in os.walk('D:/DataScience/FaceMaskDetection/Input'):\n",
    "    for filename in filenames:\n",
    "        print(os.path.join(dirname, filename))\n",
    "\n",
    "# You can write up to 20GB to the current directory (/kaggle/working/) that gets preserved as output when you create a version using \"Save & Run All\" \n",
    "# You can also write temporary files to /kaggle/temp/, but they won't be saved outside of the current session"
   ]
  },
  {
   "cell_type": "code",
   "execution_count": null,
   "id": "7e2dd6a2",
   "metadata": {},
   "outputs": [],
   "source": [
    "# Path\n",
    "img_dir = 'D:/DataScience/FaceMaskDetection/Input/images'\n",
    "annotation_dir = 'D:/College/DataScience/FaceMaskDetection/Input/annotations'\n",
    "\n",
    "input_dir = 'D:/DataScience/FaceMaskDetection/Input'\n",
    "output_dir = 'D:/DataScience/FaceMaskDetection/Output'"
   ]
  },
  {
   "cell_type": "code",
   "execution_count": null,
   "id": "825203ab",
   "metadata": {},
   "outputs": [],
   "source": [
    "# sample visuaization\n",
    "for idx, image in enumerate(os.listdir(img_dir)):\n",
    "    img = cv2.imread(os.path.join(img_dir, image), 1)\n",
    "    plt.imshow(img)\n",
    "    plt.show()\n",
    "    \n",
    "    if idx == 3:\n",
    "        break"
   ]
  },
  {
   "cell_type": "code",
   "execution_count": null,
   "id": "9d64c659",
   "metadata": {},
   "outputs": [],
   "source": [
    "# make img_file_path\n",
    "img_file_path = []\n",
    "for img in os.listdir(img_dir):\n",
    "    image  = cv2.imread(os.path.join(img_dir, img), 0)\n",
    "    img_file_path.append(f'{img}')"
   ]
  },
  {
   "cell_type": "code",
   "execution_count": null,
   "id": "8b972fb0",
   "metadata": {},
   "outputs": [],
   "source": [
    "df = { 'name': [],\n",
    "        'label': [],\n",
    "      'width': [],\n",
    "      'height': [],\n",
    "     'xmin': [],\n",
    "     'ymin': [],\n",
    "     'xmax': [],\n",
    "     'ymax': []}\n",
    "\n",
    "for idx, anno in enumerate(glob.glob(annotation_dir + '/*.xml')):\n",
    "    trees = ET.parse(anno)\n",
    "    \n",
    "    #print(anno)\n",
    "    root = trees.getroot()\n",
    "    width, height = [], []\n",
    "    for item in root.iter():\n",
    "        #print(item)\n",
    "               \n",
    "        if item.tag == 'size':\n",
    "            for attr in list(item):\n",
    "                if attr.tag == 'width':\n",
    "                    width = int(round(float(attr.text)))\n",
    "                if attr.tag == 'height':\n",
    "                    height = int(round(float(attr.text)))\n",
    "                    \n",
    "        if item.tag == 'object':\n",
    "            for attr in list(item):\n",
    "                if 'name' in attr.tag:\n",
    "                    label = attr.text\n",
    "                    df['label'] += [label]\n",
    "                    df['width'] += [width]\n",
    "                    df['height'] += [height]\n",
    "                    #dataset['name']+=[anno.split('/')[-1][0:-4]] \n",
    "                    df['name'] += [anno.split('/')[-1][0:-4]]\n",
    "                    \n",
    "                if 'bndbox' in attr.tag:\n",
    "                    for dim in attr:\n",
    "                        if dim.tag == 'xmin':\n",
    "                            xmin = int(round(float(dim.text)))\n",
    "                            df['xmin'] += [xmin]\n",
    "                            \n",
    "                        if dim.tag == 'ymin':\n",
    "                            ymin = int(round(float(dim.text)))\n",
    "                            df['ymin'] += [ymin]\n",
    "                        if dim.tag == 'xmax':\n",
    "                            xmax = int(round(float(dim.text)))\n",
    "                            df['xmax'] += [xmax]\n",
    "                        if dim.tag == 'ymax':\n",
    "                            ymax = int(round(float(dim.text)))\n",
    "                            df['ymax'] += [ymax]"
   ]
  },
  {
   "cell_type": "code",
   "execution_count": null,
   "id": "2e4ed1f5",
   "metadata": {},
   "outputs": [],
   "source": [
    "df1 = pd.DataFrame(df)\n",
    "df1.head()"
   ]
  },
  {
   "cell_type": "code",
   "execution_count": null,
   "id": "38e4a359",
   "metadata": {},
   "outputs": [],
   "source": [
    "df1.info()"
   ]
  },
  {
   "cell_type": "code",
   "execution_count": null,
   "id": "704c33be",
   "metadata": {},
   "outputs": [],
   "source": [
    "label_map = { 'without_mask': 0,\n",
    "            'with_mask': 1,\n",
    "            'mask_weared_incorrect': 2}\n",
    "\n",
    "df1['class'] = df1['label'].map(label_map)"
   ]
  },
  {
   "cell_type": "code",
   "execution_count": null,
   "id": "e891e3f7",
   "metadata": {},
   "outputs": [],
   "source": [
    "# split train, test, val data\n",
    "from sklearn.model_selection import train_test_split\n",
    "\n",
    "train, test = train_test_split(img_file_path, test_size=0.2, random_state=101)\n",
    "train, val = train_test_split(train, test_size=0.15, random_state=101)"
   ]
  },
  {
   "cell_type": "code",
   "execution_count": null,
   "id": "43d0418b",
   "metadata": {},
   "outputs": [],
   "source": [
    "# yolo v5\n",
    "%cd Output\n",
    "!git clone https://github.com/ultralytics/yolov5\n",
    "%cd yolov5\n",
    "!pip install -qr requirements.txt"
   ]
  },
  {
   "cell_type": "code",
   "execution_count": null,
   "id": "fa968143",
   "metadata": {},
   "outputs": [],
   "source": [
    "# create a separate folder structure for train, validation and test image and validation files\n",
    "os.chdir(r'D:/DataScience/FaceMaskDetection/Output')\n",
    "os.mkdir(r'D:/DataScience/FaceMaskDetection/Output/yolov5/data/train')\n",
    "os.mkdir(r'D:/DataScience/FaceMaskDetection/Output/yolov5/data/val')\n",
    "os.mkdir(r'D:/DataScience/FaceMaskDetection/Output/yolov5/data/test')\n",
    "os.mkdir(r'D:/DataScience/FaceMaskDetection/Output/yolov5/data/train/images')\n",
    "os.mkdir(r'D:/DataScience/FaceMaskDetection/Output/yolov5/data/train/labels')\n",
    "os.mkdir(r'D:/DataScience/FaceMaskDetection/Output/yolov5/data/val/images')\n",
    "os.mkdir(r'D:/DataScience/FaceMaskDetection/Output/yolov5/data/val/labels')\n",
    "os.mkdir(r'D:/DataScience/FaceMaskDetection/Output/yolov5/data/test/images')\n",
    "os.mkdir(r'D:/DataScience/FaceMaskDetection/Output/yolov5/data/test/labels')"
   ]
  },
  {
   "cell_type": "code",
   "execution_count": null,
   "id": "607a04e9",
   "metadata": {},
   "outputs": [],
   "source": [
    "# copy the image data in the yolov5 folder \n",
    "def copy_image_file(image_items, folder_name):\n",
    "    \n",
    "    for image in image_items:\n",
    "        img = PIL.Image.open(f'{img_dir}/{image}')\n",
    "        img1 = img.resize((640, 480))\n",
    "        _ = img1.save(f'{output_dir}/yolov5/data/{folder_name}/images/{image}')\n",
    "\n",
    "copy_image_file(train, 'train')\n",
    "copy_image_file(val, 'val')\n",
    "copy_image_file(test, 'test')"
   ]
  },
  {
   "cell_type": "code",
   "execution_count": null,
   "id": "601840ca",
   "metadata": {},
   "outputs": [],
   "source": [
    "df1['xmin'] = (640/df1['width']) * df1['xmin']\n",
    "df1['ymin'] = (480/df1['height']) * df1['ymin']\n",
    "df1['xmax'] = (640/df1['width']) * df1['xmax']\n",
    "df1['ymax'] = (480/df1['height']) * df1['ymax']\n",
    "df1.head()"
   ]
  },
  {
   "cell_type": "code",
   "execution_count": null,
   "id": "d9962610",
   "metadata": {},
   "outputs": [],
   "source": [
    "df1[['xmin', 'ymin', 'xmax', 'ymax']] = df1[['xmin', 'ymin', 'xmax', 'ymax']].astype('int')"
   ]
  },
  {
   "cell_type": "code",
   "execution_count": null,
   "id": "c06f7d7d",
   "metadata": {},
   "outputs": [],
   "source": [
    "WIDTH = 640\n",
    "HEIGHT = 480"
   ]
  },
  {
   "cell_type": "code",
   "execution_count": null,
   "id": "d27b94d0",
   "metadata": {},
   "outputs": [],
   "source": [
    "df1['x_center'] = (df1['xmin']+df1['xmax'])/(2*WIDTH)\n",
    "df1['y_center'] = (df1['ymin']+df1['ymax'])/(2*HEIGHT)\n",
    "df1['box_width'] = (df1['xmax']-df1['xmin'])/ WIDTH\n",
    "df1['box_height'] = (df1['ymax']-df1['ymin'])/ HEIGHT"
   ]
  },
  {
   "cell_type": "code",
   "execution_count": null,
   "id": "1a8240df",
   "metadata": {},
   "outputs": [],
   "source": [
    "df1.head()"
   ]
  },
  {
   "cell_type": "code",
   "execution_count": null,
   "id": "c98624b4",
   "metadata": {},
   "outputs": [],
   "source": [
    "df1 = df1.astype(str)"
   ]
  },
  {
   "cell_type": "code",
   "execution_count": null,
   "id": "b02364b6",
   "metadata": {},
   "outputs": [],
   "source": [
    "img_file_path[:5]"
   ]
  },
  {
   "cell_type": "code",
   "execution_count": null,
   "id": "bc852c54",
   "metadata": {},
   "outputs": [],
   "source": [
    "# copy the label data in the yolov5 folder \n",
    "\n",
    "def copy_label(label_items, folder_name):\n",
    "    file_name = [x.split('.')[0] for x in img_file_path]\n",
    "    for name in file_name:\n",
    "        data = df1[df1.name == name]\n",
    "\n",
    "        box_list = []\n",
    "        for idx in range(len(data)):\n",
    "            row = data.iloc[idx]\n",
    "            box_list.append(row['class']+\" \"+row['x_center']+\" \"+row['y_center']+\" \"+ row['box_width']+\" \"+row['box_height'])\n",
    "\n",
    "        text = \"\\n\".join(box_list)\n",
    "        with open(f'{output_dir}/yolov5/data/{folder_name}/labels/{name}.txt', 'w') as file:\n",
    "            file.write(text)"
   ]
  },
  {
   "cell_type": "code",
   "execution_count": null,
   "id": "53c7e176",
   "metadata": {},
   "outputs": [],
   "source": [
    "copy_label(train, 'train')\n",
    "copy_label(val, 'val')\n",
    "copy_label(test, 'test')"
   ]
  },
  {
   "cell_type": "code",
   "execution_count": null,
   "id": "4d1dae3f",
   "metadata": {},
   "outputs": [],
   "source": [
    "os.chdir(f'D:/DataScience/FaceMaskDetection/Output/yolov5/data/train/labels')"
   ]
  },
  {
   "cell_type": "code",
   "execution_count": null,
   "id": "7a14cb6e",
   "metadata": {},
   "outputs": [],
   "source": [
    "# Configure .yaml file \n",
    "yaml_file = \"\"\"train: D:/DataScience/FaceMaskDetection/Output/yolov5/data/train/images\n",
    "val: D:/DataScience/FaceMaskDetection/Output/yolov5/data/val/images\n",
    "                \n",
    "nc: 3\n",
    "\n",
    "names: [without_mask, with_mask, mask_weared_incorrect]\"\"\"\n",
    "\n",
    "with open('D:/DataScience/FaceMaskDetection/Output/yolov5/data/data.yaml', 'w') as f:\n",
    "    f.write(yaml_file)"
   ]
  },
  {
   "cell_type": "markdown",
   "id": "b8b6609b",
   "metadata": {},
   "source": [
    "## Model Training"
   ]
  },
  {
   "cell_type": "code",
   "execution_count": null,
   "id": "0848dd5e",
   "metadata": {},
   "outputs": [],
   "source": [
    "!pip uninstall comet-ml -y"
   ]
  },
  {
   "cell_type": "code",
   "execution_count": null,
   "id": "e53f153a",
   "metadata": {},
   "outputs": [],
   "source": [
    "!python D:/DataScience/FaceMaskDetection/Output/yolov5/train.py --img 640 --epochs 50 --batch 32 --data D:/DataScience/FaceMaskDetection/Output/yolov5/data/data.yaml --cfg D:/DataScience/FaceMaskDetection/Output/yolov5/models/yolov5s.yaml --weights yolov5s.pt --name mask_wearing_yolov5"
   ]
  },
  {
   "cell_type": "code",
   "execution_count": null,
   "id": "2ff726f3",
   "metadata": {},
   "outputs": [],
   "source": []
  }
 ],
 "metadata": {
  "kernelspec": {
   "display_name": "FaceMaskDetection",
   "language": "python",
   "name": "facemaskdetection"
  },
  "language_info": {
   "codemirror_mode": {
    "name": "ipython",
    "version": 3
   },
   "file_extension": ".py",
   "mimetype": "text/x-python",
   "name": "python",
   "nbconvert_exporter": "python",
   "pygments_lexer": "ipython3",
   "version": "3.10.7"
  }
 },
 "nbformat": 4,
 "nbformat_minor": 5
}
